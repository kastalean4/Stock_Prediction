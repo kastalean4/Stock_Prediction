{
 "cells": [
  {
   "cell_type": "code",
   "execution_count": 1,
   "id": "3f417294",
   "metadata": {
    "_cell_guid": "b1076dfc-b9ad-4769-8c92-a6c4dae69d19",
    "_uuid": "8f2839f25d086af736a60e9eeb907d3b93b6e0e5",
    "execution": {
     "iopub.execute_input": "2022-10-14T06:57:44.011698Z",
     "iopub.status.busy": "2022-10-14T06:57:44.011130Z",
     "iopub.status.idle": "2022-10-14T06:57:50.867101Z",
     "shell.execute_reply": "2022-10-14T06:57:50.865921Z"
    },
    "papermill": {
     "duration": 6.866401,
     "end_time": "2022-10-14T06:57:50.870053",
     "exception": false,
     "start_time": "2022-10-14T06:57:44.003652",
     "status": "completed"
    },
    "tags": []
   },
   "outputs": [],
   "source": [
    "# Step 1 : Import necessary tools\n",
    "\n",
    "import numpy as np\n",
    "import pandas as pd\n",
    "import os\n",
    "import matplotlib.pyplot as plt\n",
    "from sklearn import preprocessing\n",
    "from keras.models import Sequential\n",
    "from keras.layers.core import Dense, Dropout, Activation\n",
    "from keras.layers.recurrent import LSTM"
   ]
  },
  {
   "cell_type": "code",
   "execution_count": 2,
   "id": "b5003bb7",
   "metadata": {
    "execution": {
     "iopub.execute_input": "2022-10-14T06:57:50.879190Z",
     "iopub.status.busy": "2022-10-14T06:57:50.878457Z",
     "iopub.status.idle": "2022-10-14T06:57:52.327541Z",
     "shell.execute_reply": "2022-10-14T06:57:52.326163Z"
    },
    "papermill": {
     "duration": 1.456442,
     "end_time": "2022-10-14T06:57:52.330211",
     "exception": false,
     "start_time": "2022-10-14T06:57:50.873769",
     "status": "completed"
    },
    "tags": []
   },
   "outputs": [
    {
     "name": "stdout",
     "output_type": "stream",
     "text": [
      "         date symbol        open       close         low        high  \\\n",
      "0  2016-01-05   WLTW  123.430000  125.839996  122.309998  126.250000   \n",
      "1  2016-01-06   WLTW  125.239998  119.980003  119.940002  125.540001   \n",
      "2  2016-01-07   WLTW  116.379997  114.949997  114.930000  119.739998   \n",
      "3  2016-01-08   WLTW  115.480003  116.620003  113.500000  117.440002   \n",
      "4  2016-01-11   WLTW  117.010002  114.970001  114.089996  117.330002   \n",
      "\n",
      "      volume  \n",
      "0  2163600.0  \n",
      "1  2386400.0  \n",
      "2  2489500.0  \n",
      "3  2006300.0  \n",
      "4  1408600.0  \n"
     ]
    }
   ],
   "source": [
    "# STEP 2 : read data from file\n",
    "\n",
    "data = pd.read_csv('../input/nyse/prices-split-adjusted.csv')\n",
    "data2 = pd.read_csv('../input/nyse/fundamentals.csv')\n",
    "print(data.head(5))"
   ]
  },
  {
   "cell_type": "code",
   "execution_count": 3,
   "id": "fd2865d4",
   "metadata": {
    "execution": {
     "iopub.execute_input": "2022-10-14T06:57:52.339612Z",
     "iopub.status.busy": "2022-10-14T06:57:52.338751Z",
     "iopub.status.idle": "2022-10-14T06:57:52.427906Z",
     "shell.execute_reply": "2022-10-14T06:57:52.426319Z"
    },
    "papermill": {
     "duration": 0.0967,
     "end_time": "2022-10-14T06:57:52.430702",
     "exception": false,
     "start_time": "2022-10-14T06:57:52.334002",
     "status": "completed"
    },
    "tags": []
   },
   "outputs": [
    {
     "name": "stdout",
     "output_type": "stream",
     "text": [
      "                open     close       low      high    volume\n",
      "date                                                        \n",
      "2010-01-04  0.157047  0.159399  0.161167  0.156390  0.131722\n",
      "2010-01-05  0.157238  0.157092  0.158884  0.154995  0.202469\n",
      "2010-01-06  0.156140  0.143942  0.146049  0.153341  0.268184\n",
      "2010-01-07  0.142436  0.132105  0.134457  0.140094  0.432522\n",
      "2010-01-08  0.127950  0.138726  0.131464  0.134455  0.318492\n"
     ]
    }
   ],
   "source": [
    "# Let us focus on the stock of google, and normalize it with the min-max scaler\n",
    "\n",
    "data_focus = data.loc[data.symbol == 'GOOG'].reset_index(drop=True).set_index('date')\n",
    "scaler = preprocessing.MinMaxScaler()\n",
    "data_focus['open'] = scaler.fit_transform(data_focus.open.values.reshape(-1,1))\n",
    "data_focus['close'] = scaler.fit_transform(data_focus.close.values.reshape(-1,1))\n",
    "data_focus['low'] = scaler.fit_transform(data_focus.low.values.reshape(-1,1))\n",
    "data_focus['high'] = scaler.fit_transform(data_focus.high.values.reshape(-1,1))\n",
    "data_focus['volume'] = scaler.fit_transform(data_focus.volume.values.reshape(-1,1))\n",
    "data_focus.drop(columns = ['symbol'], inplace = True)\n",
    "print(data_focus.head(5))"
   ]
  },
  {
   "cell_type": "code",
   "execution_count": 4,
   "id": "f82d3fb2",
   "metadata": {
    "execution": {
     "iopub.execute_input": "2022-10-14T06:57:52.439919Z",
     "iopub.status.busy": "2022-10-14T06:57:52.439485Z",
     "iopub.status.idle": "2022-10-14T06:57:52.706359Z",
     "shell.execute_reply": "2022-10-14T06:57:52.705233Z"
    },
    "papermill": {
     "duration": 0.274294,
     "end_time": "2022-10-14T06:57:52.708802",
     "exception": false,
     "start_time": "2022-10-14T06:57:52.434508",
     "status": "completed"
    },
    "tags": []
   },
   "outputs": [
    {
     "data": {
      "image/png": "[encoded data removed]",
      "text/plain": [
       "<Figure size 432x288 with 1 Axes>"
      ]
     },
     "metadata": {
      "needs_background": "light"
     },
     "output_type": "display_data"
    }
   ],
   "source": [
    "data_focus.close.plot(rot = 90)\n",
    "plt.title('Google Stock Data, Close')\n",
    "plt.ylabel('Scaled Stock')\n",
    "plt.show()"
   ]
  },
  {
   "cell_type": "code",
   "execution_count": 5,
   "id": "ca0bf657",
   "metadata": {
    "execution": {
     "iopub.execute_input": "2022-10-14T06:57:52.719197Z",
     "iopub.status.busy": "2022-10-14T06:57:52.718740Z",
     "iopub.status.idle": "2022-10-14T06:57:52.731475Z",
     "shell.execute_reply": "2022-10-14T06:57:52.730658Z"
    },
    "papermill": {
     "duration": 0.020745,
     "end_time": "2022-10-14T06:57:52.733964",
     "exception": false,
     "start_time": "2022-10-14T06:57:52.713219",
     "status": "completed"
    },
    "tags": []
   },
   "outputs": [],
   "source": [
    "# STEP 3 : Create Training set and Test set\n",
    "\n",
    "def input_data(dataset, lookback):\n",
    "    n_features = len(dataset.columns)\n",
    "    dt_matrix = dataset.to_numpy()\n",
    "    window_len = lookback + 1\n",
    "    res = []\n",
    "    \n",
    "    for idx in range(len(dt_matrix) - window_len):\n",
    "        res.append(dt_matrix[idx : idx + window_len])\n",
    "        \n",
    "    res = np.array(res)\n",
    "    trainsize = int(0.7 * res.shape[0])\n",
    "    train = res[:trainsize, :]\n",
    "    \n",
    "    X_train = train[:, :-1]\n",
    "    y_train = train[:, -1][:, -1]\n",
    "    X_test = res[trainsize:, : -1]\n",
    "    y_test = res[trainsize:, -1][:, -1]\n",
    "    \n",
    "    X_train = np.reshape(X_train, (X_train.shape[0], X_train.shape[1], n_features))\n",
    "    X_test = np.reshape(X_test, (X_test.shape[0], X_test.shape[1], n_features))\n",
    "    \n",
    "    return [X_train, X_test, y_train, y_test]\n",
    "\n",
    "# By this code, we choose a subset of dataset where the size of subset is given by window_len. \n",
    "\n",
    "window = 30\n",
    "X_train, X_test, y_train, y_test = input_data(data_focus, window)\n",
    "trainsize = y_train.shape[0]\n",
    "testsize = y_test.shape[0]"
   ]
  },
  {
   "cell_type": "code",
   "execution_count": 6,
   "id": "a8a3b712",
   "metadata": {
    "execution": {
     "iopub.execute_input": "2022-10-14T06:57:52.744139Z",
     "iopub.status.busy": "2022-10-14T06:57:52.743665Z",
     "iopub.status.idle": "2022-10-14T06:57:52.749909Z",
     "shell.execute_reply": "2022-10-14T06:57:52.748803Z"
    },
    "papermill": {
     "duration": 0.014416,
     "end_time": "2022-10-14T06:57:52.752541",
     "exception": false,
     "start_time": "2022-10-14T06:57:52.738125",
     "status": "completed"
    },
    "tags": []
   },
   "outputs": [
    {
     "name": "stdout",
     "output_type": "stream",
     "text": [
      "(1211, 30, 5)\n",
      "(520, 30, 5)\n",
      "(1211,)\n",
      "(520,)\n"
     ]
    }
   ],
   "source": [
    "print(X_train.shape)\n",
    "print(X_test.shape)\n",
    "print(y_train.shape)\n",
    "print(y_test.shape)"
   ]
  },
  {
   "cell_type": "code",
   "execution_count": 7,
   "id": "ba1be9a5",
   "metadata": {
    "execution": {
     "iopub.execute_input": "2022-10-14T06:57:52.762710Z",
     "iopub.status.busy": "2022-10-14T06:57:52.762280Z",
     "iopub.status.idle": "2022-10-14T06:57:53.237191Z",
     "shell.execute_reply": "2022-10-14T06:57:53.236042Z"
    },
    "papermill": {
     "duration": 0.483107,
     "end_time": "2022-10-14T06:57:53.239873",
     "exception": false,
     "start_time": "2022-10-14T06:57:52.756766",
     "status": "completed"
    },
    "tags": []
   },
   "outputs": [
    {
     "name": "stderr",
     "output_type": "stream",
     "text": [
      "2022-10-14 06:57:52.801110: I tensorflow/core/common_runtime/process_util.cc:146] Creating new thread pool with default inter op setting: 2. Tune using inter_op_parallelism_threads for best performance.\n"
     ]
    }
   ],
   "source": [
    "# STEP 4 : Build a Model\n",
    "\n",
    "n_features = len(data_focus.columns)\n",
    "drop = 0.2\n",
    "model = Sequential()\n",
    "model.add(LSTM(256, input_shape = (window, n_features), return_sequences = True))\n",
    "model.add(Dropout(drop))\n",
    "model.add(LSTM(256, input_shape = (window, n_features), return_sequences = False))\n",
    "model.add(Dropout(drop))\n",
    "model.add(Dense(32,kernel_initializer=\"uniform\",activation='relu'))        \n",
    "model.add(Dense(1,kernel_initializer=\"uniform\",activation='linear'))\n",
    "model.compile(loss='mse',optimizer='adam', metrics=['accuracy'])"
   ]
  },
  {
   "cell_type": "code",
   "execution_count": 8,
   "id": "9f95e1a3",
   "metadata": {
    "execution": {
     "iopub.execute_input": "2022-10-14T06:57:53.250772Z",
     "iopub.status.busy": "2022-10-14T06:57:53.250276Z",
     "iopub.status.idle": "2022-10-14T07:03:20.750432Z",
     "shell.execute_reply": "2022-10-14T07:03:20.749358Z"
    },
    "papermill": {
     "duration": 327.508409,
     "end_time": "2022-10-14T07:03:20.752718",
     "exception": false,
     "start_time": "2022-10-14T06:57:53.244309",
     "status": "completed"
    },
    "tags": []
   },
   "outputs": [
    {
     "name": "stderr",
     "output_type": "stream",
     "text": [
      "2022-10-14 06:57:53.315294: I tensorflow/compiler/mlir/mlir_graph_optimization_pass.cc:185] None of the MLIR Optimization Passes are enabled (registered 2)\n"
     ]
    },
    {
     "name": "stdout",
     "output_type": "stream",
     "text": [
      "Epoch 1/100\n",
      "3/3 [==============================] - 11s 1s/step - loss: 0.0394 - accuracy: 9.1827e-04 - val_loss: 9.2658e-04 - val_accuracy: 0.0000e+00\n",
      "Epoch 2/100\n",
      "3/3 [==============================] - 3s 981ms/step - loss: 0.0303 - accuracy: 9.1827e-04 - val_loss: 0.0524 - val_accuracy: 0.0000e+00\n",
      "Epoch 3/100\n",
      "3/3 [==============================] - 3s 947ms/step - loss: 0.0174 - accuracy: 9.1827e-04 - val_loss: 0.0235 - val_accuracy: 0.0000e+00\n",
      "Epoch 4/100\n",
      "3/3 [==============================] - 3s 951ms/step - loss: 0.0122 - accuracy: 9.1827e-04 - val_loss: 0.0094 - val_accuracy: 0.0000e+00\n",
      "Epoch 5/100\n",
      "3/3 [==============================] - 3s 971ms/step - loss: 0.0118 - accuracy: 9.1827e-04 - val_loss: 0.0150 - val_accuracy: 0.0000e+00\n",
      "Epoch 6/100\n",
      "3/3 [==============================] - 4s 939ms/step - loss: 0.0101 - accuracy: 9.1827e-04 - val_loss: 0.0198 - val_accuracy: 0.0000e+00\n",
      "Epoch 7/100\n",
      "3/3 [==============================] - 3s 940ms/step - loss: 0.0102 - accuracy: 9.1827e-04 - val_loss: 0.0148 - val_accuracy: 0.0000e+00\n",
      "Epoch 8/100\n",
      "3/3 [==============================] - 3s 908ms/step - loss: 0.0098 - accuracy: 9.1827e-04 - val_loss: 0.0103 - val_accuracy: 0.0000e+00\n",
      "Epoch 9/100\n",
      "3/3 [==============================] - 3s 926ms/step - loss: 0.0100 - accuracy: 9.1827e-04 - val_loss: 0.0117 - val_accuracy: 0.0000e+00\n",
      "Epoch 10/100\n",
      "3/3 [==============================] - 3s 902ms/step - loss: 0.0098 - accuracy: 9.1827e-04 - val_loss: 0.0145 - val_accuracy: 0.0000e+00\n",
      "Epoch 11/100\n",
      "3/3 [==============================] - 3s 925ms/step - loss: 0.0098 - accuracy: 9.1827e-04 - val_loss: 0.0158 - val_accuracy: 0.0000e+00\n",
      "Epoch 12/100\n",
      "3/3 [==============================] - 3s 895ms/step - loss: 0.0098 - accuracy: 9.1827e-04 - val_loss: 0.0130 - val_accuracy: 0.0000e+00\n",
      "Epoch 13/100\n",
      "3/3 [==============================] - 3s 882ms/step - loss: 0.0096 - accuracy: 9.1827e-04 - val_loss: 0.0089 - val_accuracy: 0.0000e+00\n",
      "Epoch 14/100\n",
      "3/3 [==============================] - 3s 879ms/step - loss: 0.0098 - accuracy: 9.1827e-04 - val_loss: 0.0095 - val_accuracy: 0.0000e+00\n",
      "Epoch 15/100\n",
      "3/3 [==============================] - 3s 877ms/step - loss: 0.0094 - accuracy: 9.1827e-04 - val_loss: 0.0113 - val_accuracy: 0.0000e+00\n",
      "Epoch 16/100\n",
      "3/3 [==============================] - 4s 958ms/step - loss: 0.0094 - accuracy: 9.1827e-04 - val_loss: 0.0026 - val_accuracy: 0.0000e+00\n",
      "Epoch 17/100\n",
      "3/3 [==============================] - 3s 925ms/step - loss: 0.0089 - accuracy: 9.1827e-04 - val_loss: 0.0011 - val_accuracy: 0.0000e+00\n",
      "Epoch 18/100\n",
      "3/3 [==============================] - 3s 931ms/step - loss: 0.0089 - accuracy: 9.1827e-04 - val_loss: 0.0056 - val_accuracy: 0.0000e+00\n",
      "Epoch 19/100\n",
      "3/3 [==============================] - 3s 930ms/step - loss: 0.0089 - accuracy: 9.1827e-04 - val_loss: 0.0040 - val_accuracy: 0.0000e+00\n",
      "Epoch 20/100\n",
      "3/3 [==============================] - 3s 912ms/step - loss: 0.0087 - accuracy: 9.1827e-04 - val_loss: 0.0025 - val_accuracy: 0.0000e+00\n",
      "Epoch 21/100\n",
      "3/3 [==============================] - 3s 919ms/step - loss: 0.0087 - accuracy: 9.1827e-04 - val_loss: 0.0033 - val_accuracy: 0.0000e+00\n",
      "Epoch 22/100\n",
      "3/3 [==============================] - 3s 862ms/step - loss: 0.0087 - accuracy: 9.1827e-04 - val_loss: 0.0043 - val_accuracy: 0.0000e+00\n",
      "Epoch 23/100\n",
      "3/3 [==============================] - 3s 891ms/step - loss: 0.0086 - accuracy: 9.1827e-04 - val_loss: 0.0031 - val_accuracy: 0.0000e+00\n",
      "Epoch 24/100\n",
      "3/3 [==============================] - 3s 862ms/step - loss: 0.0087 - accuracy: 9.1827e-04 - val_loss: 0.0036 - val_accuracy: 0.0000e+00\n",
      "Epoch 25/100\n",
      "3/3 [==============================] - 3s 946ms/step - loss: 0.0087 - accuracy: 9.1827e-04 - val_loss: 0.0041 - val_accuracy: 0.0000e+00\n",
      "Epoch 26/100\n",
      "3/3 [==============================] - 4s 920ms/step - loss: 0.0087 - accuracy: 9.1827e-04 - val_loss: 0.0040 - val_accuracy: 0.0000e+00\n",
      "Epoch 27/100\n",
      "3/3 [==============================] - 3s 909ms/step - loss: 0.0087 - accuracy: 9.1827e-04 - val_loss: 0.0029 - val_accuracy: 0.0000e+00\n",
      "Epoch 28/100\n",
      "3/3 [==============================] - 3s 913ms/step - loss: 0.0089 - accuracy: 9.1827e-04 - val_loss: 0.0037 - val_accuracy: 0.0000e+00\n",
      "Epoch 29/100\n",
      "3/3 [==============================] - 3s 913ms/step - loss: 0.0086 - accuracy: 9.1827e-04 - val_loss: 0.0053 - val_accuracy: 0.0000e+00\n",
      "Epoch 30/100\n",
      "3/3 [==============================] - 3s 959ms/step - loss: 0.0088 - accuracy: 9.1827e-04 - val_loss: 0.0030 - val_accuracy: 0.0000e+00\n",
      "Epoch 31/100\n",
      "3/3 [==============================] - 3s 961ms/step - loss: 0.0088 - accuracy: 9.1827e-04 - val_loss: 0.0023 - val_accuracy: 0.0000e+00\n",
      "Epoch 32/100\n",
      "3/3 [==============================] - 3s 957ms/step - loss: 0.0087 - accuracy: 9.1827e-04 - val_loss: 0.0033 - val_accuracy: 0.0000e+00\n",
      "Epoch 33/100\n",
      "3/3 [==============================] - 3s 1s/step - loss: 0.0086 - accuracy: 9.1827e-04 - val_loss: 0.0028 - val_accuracy: 0.0000e+00\n",
      "Epoch 34/100\n",
      "3/3 [==============================] - 3s 963ms/step - loss: 0.0086 - accuracy: 9.1827e-04 - val_loss: 0.0037 - val_accuracy: 0.0000e+00\n",
      "Epoch 35/100\n",
      "3/3 [==============================] - 4s 1s/step - loss: 0.0087 - accuracy: 9.1827e-04 - val_loss: 0.0039 - val_accuracy: 0.0000e+00\n",
      "Epoch 36/100\n",
      "3/3 [==============================] - 3s 985ms/step - loss: 0.0086 - accuracy: 9.1827e-04 - val_loss: 0.0021 - val_accuracy: 0.0000e+00\n",
      "Epoch 37/100\n",
      "3/3 [==============================] - 3s 958ms/step - loss: 0.0088 - accuracy: 9.1827e-04 - val_loss: 0.0024 - val_accuracy: 0.0000e+00\n",
      "Epoch 38/100\n",
      "3/3 [==============================] - 3s 990ms/step - loss: 0.0087 - accuracy: 9.1827e-04 - val_loss: 0.0039 - val_accuracy: 0.0000e+00\n",
      "Epoch 39/100\n",
      "3/3 [==============================] - 3s 983ms/step - loss: 0.0087 - accuracy: 9.1827e-04 - val_loss: 0.0041 - val_accuracy: 0.0000e+00\n",
      "Epoch 40/100\n",
      "3/3 [==============================] - 3s 931ms/step - loss: 0.0087 - accuracy: 9.1827e-04 - val_loss: 0.0032 - val_accuracy: 0.0000e+00\n",
      "Epoch 41/100\n",
      "3/3 [==============================] - 3s 966ms/step - loss: 0.0086 - accuracy: 9.1827e-04 - val_loss: 0.0023 - val_accuracy: 0.0000e+00\n",
      "Epoch 42/100\n",
      "3/3 [==============================] - 3s 956ms/step - loss: 0.0085 - accuracy: 9.1827e-04 - val_loss: 0.0035 - val_accuracy: 0.0000e+00\n",
      "Epoch 43/100\n",
      "3/3 [==============================] - 3s 945ms/step - loss: 0.0086 - accuracy: 9.1827e-04 - val_loss: 0.0039 - val_accuracy: 0.0000e+00\n",
      "Epoch 44/100\n",
      "3/3 [==============================] - 3s 1s/step - loss: 0.0086 - accuracy: 9.1827e-04 - val_loss: 0.0031 - val_accuracy: 0.0000e+00\n",
      "Epoch 45/100\n",
      "3/3 [==============================] - 3s 913ms/step - loss: 0.0087 - accuracy: 9.1827e-04 - val_loss: 0.0035 - val_accuracy: 0.0000e+00\n",
      "Epoch 46/100\n",
      "3/3 [==============================] - 3s 920ms/step - loss: 0.0086 - accuracy: 9.1827e-04 - val_loss: 0.0043 - val_accuracy: 0.0000e+00\n",
      "Epoch 47/100\n",
      "3/3 [==============================] - 3s 915ms/step - loss: 0.0087 - accuracy: 9.1827e-04 - val_loss: 0.0028 - val_accuracy: 0.0000e+00\n",
      "Epoch 48/100\n",
      "3/3 [==============================] - 3s 897ms/step - loss: 0.0087 - accuracy: 9.1827e-04 - val_loss: 0.0024 - val_accuracy: 0.0000e+00\n",
      "Epoch 49/100\n",
      "3/3 [==============================] - 3s 912ms/step - loss: 0.0086 - accuracy: 9.1827e-04 - val_loss: 0.0041 - val_accuracy: 0.0000e+00\n",
      "Epoch 50/100\n",
      "3/3 [==============================] - 3s 941ms/step - loss: 0.0086 - accuracy: 9.1827e-04 - val_loss: 0.0041 - val_accuracy: 0.0000e+00\n",
      "Epoch 51/100\n",
      "3/3 [==============================] - 3s 905ms/step - loss: 0.0085 - accuracy: 9.1827e-04 - val_loss: 0.0025 - val_accuracy: 0.0000e+00\n",
      "Epoch 52/100\n",
      "3/3 [==============================] - 3s 908ms/step - loss: 0.0089 - accuracy: 9.1827e-04 - val_loss: 0.0027 - val_accuracy: 0.0000e+00\n",
      "Epoch 53/100\n",
      "3/3 [==============================] - 3s 876ms/step - loss: 0.0086 - accuracy: 9.1827e-04 - val_loss: 0.0048 - val_accuracy: 0.0000e+00\n",
      "Epoch 54/100\n",
      "3/3 [==============================] - 4s 1s/step - loss: 0.0086 - accuracy: 9.1827e-04 - val_loss: 0.0034 - val_accuracy: 0.0000e+00\n",
      "Epoch 55/100\n",
      "3/3 [==============================] - 3s 917ms/step - loss: 0.0086 - accuracy: 9.1827e-04 - val_loss: 0.0017 - val_accuracy: 0.0000e+00\n",
      "Epoch 56/100\n",
      "3/3 [==============================] - 3s 897ms/step - loss: 0.0087 - accuracy: 9.1827e-04 - val_loss: 0.0021 - val_accuracy: 0.0000e+00\n",
      "Epoch 57/100\n",
      "3/3 [==============================] - 3s 887ms/step - loss: 0.0086 - accuracy: 9.1827e-04 - val_loss: 0.0037 - val_accuracy: 0.0000e+00\n",
      "Epoch 58/100\n",
      "3/3 [==============================] - 3s 871ms/step - loss: 0.0086 - accuracy: 9.1827e-04 - val_loss: 0.0037 - val_accuracy: 0.0000e+00\n",
      "Epoch 59/100\n",
      "3/3 [==============================] - 3s 884ms/step - loss: 0.0086 - accuracy: 9.1827e-04 - val_loss: 0.0033 - val_accuracy: 0.0000e+00\n",
      "Epoch 60/100\n",
      "3/3 [==============================] - 3s 879ms/step - loss: 0.0087 - accuracy: 9.1827e-04 - val_loss: 0.0025 - val_accuracy: 0.0000e+00\n",
      "Epoch 61/100\n",
      "3/3 [==============================] - 3s 892ms/step - loss: 0.0086 - accuracy: 9.1827e-04 - val_loss: 0.0033 - val_accuracy: 0.0000e+00\n",
      "Epoch 62/100\n",
      "3/3 [==============================] - 3s 907ms/step - loss: 0.0087 - accuracy: 9.1827e-04 - val_loss: 0.0048 - val_accuracy: 0.0000e+00\n",
      "Epoch 63/100\n",
      "3/3 [==============================] - 3s 895ms/step - loss: 0.0086 - accuracy: 9.1827e-04 - val_loss: 0.0050 - val_accuracy: 0.0000e+00\n",
      "Epoch 64/100\n",
      "3/3 [==============================] - 4s 1s/step - loss: 0.0087 - accuracy: 9.1827e-04 - val_loss: 0.0031 - val_accuracy: 0.0000e+00\n",
      "Epoch 65/100\n",
      "3/3 [==============================] - 3s 904ms/step - loss: 0.0086 - accuracy: 9.1827e-04 - val_loss: 0.0014 - val_accuracy: 0.0000e+00\n",
      "Epoch 66/100\n",
      "3/3 [==============================] - 3s 915ms/step - loss: 0.0087 - accuracy: 9.1827e-04 - val_loss: 0.0018 - val_accuracy: 0.0000e+00\n",
      "Epoch 67/100\n",
      "3/3 [==============================] - 3s 920ms/step - loss: 0.0085 - accuracy: 9.1827e-04 - val_loss: 0.0032 - val_accuracy: 0.0000e+00\n",
      "Epoch 68/100\n",
      "3/3 [==============================] - 3s 904ms/step - loss: 0.0085 - accuracy: 9.1827e-04 - val_loss: 0.0034 - val_accuracy: 0.0000e+00\n",
      "Epoch 69/100\n",
      "3/3 [==============================] - 3s 922ms/step - loss: 0.0085 - accuracy: 9.1827e-04 - val_loss: 0.0033 - val_accuracy: 0.0000e+00\n",
      "Epoch 70/100\n",
      "3/3 [==============================] - 3s 917ms/step - loss: 0.0085 - accuracy: 9.1827e-04 - val_loss: 0.0022 - val_accuracy: 0.0000e+00\n",
      "Epoch 71/100\n",
      "3/3 [==============================] - 3s 970ms/step - loss: 0.0085 - accuracy: 9.1827e-04 - val_loss: 0.0014 - val_accuracy: 0.0000e+00\n",
      "Epoch 72/100\n",
      "3/3 [==============================] - 3s 930ms/step - loss: 0.0086 - accuracy: 9.1827e-04 - val_loss: 0.0033 - val_accuracy: 0.0000e+00\n",
      "Epoch 73/100\n",
      "3/3 [==============================] - 3s 934ms/step - loss: 0.0085 - accuracy: 9.1827e-04 - val_loss: 0.0058 - val_accuracy: 0.0000e+00\n",
      "Epoch 74/100\n",
      "3/3 [==============================] - 4s 1s/step - loss: 0.0086 - accuracy: 9.1827e-04 - val_loss: 0.0025 - val_accuracy: 0.0000e+00\n",
      "Epoch 75/100\n",
      "3/3 [==============================] - 3s 924ms/step - loss: 0.0089 - accuracy: 9.1827e-04 - val_loss: 0.0024 - val_accuracy: 0.0000e+00\n",
      "Epoch 76/100\n",
      "3/3 [==============================] - 3s 916ms/step - loss: 0.0085 - accuracy: 9.1827e-04 - val_loss: 0.0044 - val_accuracy: 0.0000e+00\n",
      "Epoch 77/100\n",
      "3/3 [==============================] - 3s 897ms/step - loss: 0.0089 - accuracy: 9.1827e-04 - val_loss: 0.0024 - val_accuracy: 0.0000e+00\n",
      "Epoch 78/100\n",
      "3/3 [==============================] - 3s 895ms/step - loss: 0.0085 - accuracy: 9.1827e-04 - val_loss: 6.8221e-04 - val_accuracy: 0.0000e+00\n",
      "Epoch 79/100\n",
      "3/3 [==============================] - 3s 890ms/step - loss: 0.0088 - accuracy: 9.1827e-04 - val_loss: 0.0026 - val_accuracy: 0.0000e+00\n",
      "Epoch 80/100\n",
      "3/3 [==============================] - 3s 880ms/step - loss: 0.0085 - accuracy: 9.1827e-04 - val_loss: 0.0052 - val_accuracy: 0.0000e+00\n",
      "Epoch 81/100\n",
      "3/3 [==============================] - 3s 915ms/step - loss: 0.0086 - accuracy: 9.1827e-04 - val_loss: 0.0035 - val_accuracy: 0.0000e+00\n",
      "Epoch 82/100\n",
      "3/3 [==============================] - 3s 898ms/step - loss: 0.0086 - accuracy: 9.1827e-04 - val_loss: 0.0032 - val_accuracy: 0.0000e+00\n",
      "Epoch 83/100\n",
      "3/3 [==============================] - 3s 920ms/step - loss: 0.0086 - accuracy: 9.1827e-04 - val_loss: 0.0036 - val_accuracy: 0.0000e+00\n",
      "Epoch 84/100\n",
      "3/3 [==============================] - 4s 1s/step - loss: 0.0085 - accuracy: 9.1827e-04 - val_loss: 0.0019 - val_accuracy: 0.0000e+00\n",
      "Epoch 85/100\n",
      "3/3 [==============================] - 3s 899ms/step - loss: 0.0087 - accuracy: 9.1827e-04 - val_loss: 0.0011 - val_accuracy: 0.0000e+00\n",
      "Epoch 86/100\n",
      "3/3 [==============================] - 3s 890ms/step - loss: 0.0086 - accuracy: 9.1827e-04 - val_loss: 0.0022 - val_accuracy: 0.0000e+00\n",
      "Epoch 87/100\n",
      "3/3 [==============================] - 3s 880ms/step - loss: 0.0084 - accuracy: 9.1827e-04 - val_loss: 0.0036 - val_accuracy: 0.0000e+00\n",
      "Epoch 88/100\n",
      "3/3 [==============================] - 3s 926ms/step - loss: 0.0084 - accuracy: 9.1827e-04 - val_loss: 0.0036 - val_accuracy: 0.0000e+00\n",
      "Epoch 89/100\n",
      "3/3 [==============================] - 3s 878ms/step - loss: 0.0084 - accuracy: 9.1827e-04 - val_loss: 0.0028 - val_accuracy: 0.0000e+00\n",
      "Epoch 90/100\n",
      "3/3 [==============================] - 3s 882ms/step - loss: 0.0084 - accuracy: 9.1827e-04 - val_loss: 0.0018 - val_accuracy: 0.0000e+00\n",
      "Epoch 91/100\n",
      "3/3 [==============================] - 3s 893ms/step - loss: 0.0084 - accuracy: 9.1827e-04 - val_loss: 0.0023 - val_accuracy: 0.0000e+00\n",
      "Epoch 92/100\n",
      "3/3 [==============================] - 3s 895ms/step - loss: 0.0084 - accuracy: 9.1827e-04 - val_loss: 0.0027 - val_accuracy: 0.0000e+00\n",
      "Epoch 93/100\n",
      "3/3 [==============================] - 3s 900ms/step - loss: 0.0084 - accuracy: 9.1827e-04 - val_loss: 0.0020 - val_accuracy: 0.0000e+00\n",
      "Epoch 94/100\n",
      "3/3 [==============================] - 4s 1s/step - loss: 0.0083 - accuracy: 9.1827e-04 - val_loss: 0.0026 - val_accuracy: 0.0000e+00\n",
      "Epoch 95/100\n",
      "3/3 [==============================] - 3s 941ms/step - loss: 0.0083 - accuracy: 9.1827e-04 - val_loss: 0.0032 - val_accuracy: 0.0000e+00\n",
      "Epoch 96/100\n",
      "3/3 [==============================] - 3s 912ms/step - loss: 0.0083 - accuracy: 9.1827e-04 - val_loss: 0.0028 - val_accuracy: 0.0000e+00\n",
      "Epoch 97/100\n",
      "3/3 [==============================] - 3s 871ms/step - loss: 0.0084 - accuracy: 9.1827e-04 - val_loss: 0.0033 - val_accuracy: 0.0000e+00\n",
      "Epoch 98/100\n",
      "3/3 [==============================] - 3s 883ms/step - loss: 0.0084 - accuracy: 9.1827e-04 - val_loss: 0.0029 - val_accuracy: 0.0000e+00\n",
      "Epoch 99/100\n",
      "3/3 [==============================] - 3s 870ms/step - loss: 0.0083 - accuracy: 9.1827e-04 - val_loss: 0.0016 - val_accuracy: 0.0000e+00\n",
      "Epoch 100/100\n",
      "3/3 [==============================] - 3s 901ms/step - loss: 0.0085 - accuracy: 9.1827e-04 - val_loss: 0.0028 - val_accuracy: 0.0000e+00\n"
     ]
    },
    {
     "data": {
      "text/plain": [
       "<keras.callbacks.History at 0x7f7d9a87ef90>"
      ]
     },
     "execution_count": 8,
     "metadata": {},
     "output_type": "execute_result"
    }
   ],
   "source": [
    "# STEP 5 : Fit the model to data\n",
    "\n",
    "model.fit(X_train,y_train,batch_size=512,epochs=100,validation_split=0.1,verbose=1)"
   ]
  },
  {
   "cell_type": "code",
   "execution_count": 9,
   "id": "20317866",
   "metadata": {
    "execution": {
     "iopub.execute_input": "2022-10-14T07:03:20.822699Z",
     "iopub.status.busy": "2022-10-14T07:03:20.821667Z",
     "iopub.status.idle": "2022-10-14T07:03:26.273113Z",
     "shell.execute_reply": "2022-10-14T07:03:26.271730Z"
    },
    "papermill": {
     "duration": 5.489356,
     "end_time": "2022-10-14T07:03:26.275815",
     "exception": false,
     "start_time": "2022-10-14T07:03:20.786459",
     "status": "completed"
    },
    "tags": []
   },
   "outputs": [
    {
     "name": "stdout",
     "output_type": "stream",
     "text": [
      "[0.00770597904920578, 0.0008257638546638191] [0.0020725205540657043, 0.0]\n"
     ]
    }
   ],
   "source": [
    "trainScore = model.evaluate(X_train, y_train, verbose=0)\n",
    "testScore = model.evaluate(X_test, y_test, verbose=0)\n",
    "p = model.predict(X_test)\n",
    "print(trainScore, testScore)"
   ]
  },
  {
   "cell_type": "code",
   "execution_count": 10,
   "id": "c690f4e4",
   "metadata": {
    "execution": {
     "iopub.execute_input": "2022-10-14T07:03:26.345542Z",
     "iopub.status.busy": "2022-10-14T07:03:26.344748Z",
     "iopub.status.idle": "2022-10-14T07:03:26.657062Z",
     "shell.execute_reply": "2022-10-14T07:03:26.656025Z"
    },
    "papermill": {
     "duration": 0.349804,
     "end_time": "2022-10-14T07:03:26.659302",
     "exception": false,
     "start_time": "2022-10-14T07:03:26.309498",
     "status": "completed"
    },
    "tags": []
   },
   "outputs": [
    {
     "data": {
      "image/png": "[encoded data removed]",
      "text/plain": [
       "<Figure size 432x288 with 1 Axes>"
      ]
     },
     "metadata": {
      "needs_background": "light"
     },
     "output_type": "display_data"
    }
   ],
   "source": [
    "# STEP 6 : Visualize with Graph\n",
    "\n",
    "dateList = list(data_focus.index)[trainsize:len(data_focus)-window-1]\n",
    "ylist = list(y_test)\n",
    "plist = list(p.reshape(-1))\n",
    "\n",
    "ydf = pd.DataFrame(ylist, dateList)\n",
    "ydf.columns = ['Actual Value']\n",
    "pdf = pd.DataFrame(plist, dateList)\n",
    "pdf.columns = ['Predict Value']\n",
    "\n",
    "plt.plot(pdf,color='red', label='Prediction')\n",
    "plt.plot(ydf,color='blue', label='Actual')\n",
    "plt.xticks(np.arange(0,testsize,100), rotation=90)\n",
    "plt.show()"
   ]
  }
 ],
 "metadata": {
  "kernelspec": {
   "display_name": "Python 3",
   "language": "python",
   "name": "python3"
  },
  "language_info": {
   "codemirror_mode": {
    "name": "ipython",
    "version": 3
   },
   "file_extension": ".py",
   "mimetype": "text/x-python",
   "name": "python",
   "nbconvert_exporter": "python",
   "pygments_lexer": "ipython3",
   "version": "3.7.12"
  },
  "papermill": {
   "default_parameters": {},
   "duration": 354.339387,
   "end_time": "2022-10-14T07:03:29.332500",
   "environment_variables": {},
   "exception": null,
   "input_path": "__notebook__.ipynb",
   "output_path": "__notebook__.ipynb",
   "parameters": {},
   "start_time": "2022-10-14T06:57:34.993113",
   "version": "2.3.4"
  }
 },
 "nbformat": 4,
 "nbformat_minor": 5
}
